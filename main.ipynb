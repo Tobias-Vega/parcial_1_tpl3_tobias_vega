{
 "cells": [
  {
   "cell_type": "markdown",
   "id": "9fee5ee9",
   "metadata": {},
   "source": [
    "# Examen Parcial n°1 2da Parte - TLP3 - Python para Ciencia de Datos.\n"
   ]
  },
  {
   "cell_type": "markdown",
   "id": "999099d0",
   "metadata": {},
   "source": [
    "**A partir del datasets brindado, realizar los siguientes procedimientos:**\n",
    "\n",
    "* Importar datasets con Pandas.\n",
    "* Explorar los datos con los metodos correspondientes. \n",
    "* Limpieza de los datos (Normalización de datos).\n",
    "* Obtener estadisticas.\n",
    "* Mostrar los datos procesados con graficos utilizando la libreria Matplotlib.\n",
    "* Exportar el contenido a un archivo sqlite utilizando PANDAS.\n",
    "\n",
    "\n",
    "**Importante: Se debe documentar cada procedimiento realizado, siguiendo la siguiente estructura:**\n",
    "\n",
    "1. Celda de Markdown (Documentación)\n",
    "2. Código (Sin comentarios, se debe documentar lo sufiente solo en la celda de markdown).\n",
    "\n",
    "\n",
    "### Criterios de Evaluación:\n",
    "\n",
    "1. No esta permitido el uso de IAs durante el examen. (Desactivar Copilot o cualquier herramienta de IA para autocompletar codigo.)\n",
    "\n",
    "2. Se deben utilizar nombres de variables descriptivos y claros (Utilizar la nomeclatura correspondiente para los nombres de variables).\n",
    "\n",
    "3. Comentarios claros y concisos que expliquen el propósito de cada sección del código en una celda de markdown antes del código.\n",
    "\n",
    "4. Utilizar mensajes de commit descriptivos. (Puedes utilizar la extension CONVENTIONAL COMMIT de VS-CODE).\n",
    "\n",
    "5. Entrega en tiempo y forma (Parciales entregados fuera de hora o con commits pasados el horario de entrega quedará invalidado.)\n",
    "\n",
    "6. Todo el código desarrollado debe ser subido a un repositorio en GitHub (el nombre del repositorio de seguir la siguiente estructura: \n",
    "**parcial1_tlp3_nombre_apellido**).\n",
    "\n",
    "7. Para resolver las actividades se debe insertar casillas de codigo entre cada actividad del cuaderno de Jupyter.\n",
    "\n",
    "8. Deben trabajar con el datasets adjunto.\n",
    "\n",
    "9. Una vez finalizado el examen, los resultados deben quedar guardados debajo de cada celda (NO EJECUTAR LA OPCIÓN \"borrar todas las salidas\").\n",
    "\n",
    "**Importante:** Una vez finalizado el examen, marcar como completado en el classroom."
   ]
  },
  {
   "cell_type": "markdown",
   "id": "dd91f969",
   "metadata": {},
   "source": [
    "## Actividades: \n",
    "### 1. Importación del Dataset con Pandas\n",
    "\n",
    "En esta sección, se debe utilizar la librería Pandas para cargar el archivo CSV que contiene los datos de VENTAS en un DataFrame.\n",
    "\n",
    "### 2. Exploración Inicial de los Datos\n",
    "\n",
    "A continuación, se deben emplear métodos de Pandas para obtener una visión general del dataset. \n",
    "- 2.1: Visualizar las primeras filas y ultimas.\n",
    "- 2.2: Obtener informacion del df con su metodo correspondiente.\n",
    "- 2.3: Hacer un conteo de valores nulos.\n",
    "\n",
    "### 3. Limpieza y Normalización de los Datos\n",
    "\n",
    "- 3.1. Esta etapa crucial deben aplicar la corrección de diversos errores presentes en el dataset. Se abordarán los valores faltantes (Deben aplicar los metodos que ustedes crean convenientes **(Solo 1)**, por ejemplo: Eliminación de filas, cubrir valores con media, mediana, etc.)\n",
    "- 3.2: La columna Fecha deberan pasarla al tipo datetime con su metodo correspondiente.\n",
    "- 3.3: Corregir las mayusculas en el caso de Nombre y Apellido (Si es que corresponde.)\n",
    "\n",
    "\n",
    "### 4. Obtención de Estadísticas Descriptivas\n",
    "\n",
    "Después de la limpieza, deben hacer lo siguiente: \n",
    "\n",
    "- 4.1: calcular nuevamente las estadísticas descriptivas para observar el impacto del proceso de limpieza en los datos numéricos.\n",
    "- 4.2: Calcular estadísticas específicas por grupo (Agrupar dos columnas).\n",
    "\n",
    "### 5. Visualización de los Datos con Matplotlib\n",
    "\n",
    "En esta sección, deben utilizar la librería Matplotlib para crear **UNA** visualización que permitan comprender mejor los datos de ventas.El grafico es a elección, puede crear **UNO** de los siguientes: histogramas, diagramas de dispersión, gráficos de barras y graficos de torta.\n",
    "\n",
    "### 6. Exportación a Archivo SQLite\n",
    "\n",
    "Finalmente, deben utilizar la funcionalidad de Pandas para guardar el DataFrame procesado en una base de datos SQLite. Deben hacer una conexión y hacer una consulta para ver si los datos fueron cargados correctamente.\n",
    "\n"
   ]
  },
  {
   "cell_type": "markdown",
   "id": "d060f469",
   "metadata": {},
   "source": [
    "### Importación de las librerías\n"
   ]
  },
  {
   "cell_type": "code",
   "execution_count": 82,
   "id": "08a704ee",
   "metadata": {},
   "outputs": [],
   "source": [
    "import pandas as pd\n",
    "import sqlite3\n",
    "import matplotlib.pyplot as plt"
   ]
  },
  {
   "cell_type": "markdown",
   "id": "38be5a4c",
   "metadata": {},
   "source": [
    "### Carga del archivo ventas.csv y creación del df\n",
    "\n",
    "- Se lee el archivo por medio del metodo read_csv y se guarda en una variable df"
   ]
  },
  {
   "cell_type": "code",
   "execution_count": 83,
   "id": "496d7610",
   "metadata": {},
   "outputs": [],
   "source": [
    "df = pd.read_csv('ventas.csv')"
   ]
  },
  {
   "cell_type": "markdown",
   "id": "8c0a7975",
   "metadata": {},
   "source": [
    "### Exploración inicial de los datos\n",
    "- Con el método head visualizamos las primeras 5 filas"
   ]
  },
  {
   "cell_type": "code",
   "execution_count": 84,
   "id": "d5639332",
   "metadata": {},
   "outputs": [
    {
     "data": {
      "text/html": [
       "<div>\n",
       "<style scoped>\n",
       "    .dataframe tbody tr th:only-of-type {\n",
       "        vertical-align: middle;\n",
       "    }\n",
       "\n",
       "    .dataframe tbody tr th {\n",
       "        vertical-align: top;\n",
       "    }\n",
       "\n",
       "    .dataframe thead th {\n",
       "        text-align: right;\n",
       "    }\n",
       "</style>\n",
       "<table border=\"1\" class=\"dataframe\">\n",
       "  <thead>\n",
       "    <tr style=\"text-align: right;\">\n",
       "      <th></th>\n",
       "      <th>ID_Venta</th>\n",
       "      <th>Nombre_Cliente</th>\n",
       "      <th>Apellido_Cliente</th>\n",
       "      <th>Fecha</th>\n",
       "      <th>Producto</th>\n",
       "      <th>Cantidad</th>\n",
       "      <th>Precio_Unitario</th>\n",
       "      <th>Total_Venta</th>\n",
       "      <th>Metodo_Pago</th>\n",
       "      <th>Region</th>\n",
       "    </tr>\n",
       "  </thead>\n",
       "  <tbody>\n",
       "    <tr>\n",
       "      <th>0</th>\n",
       "      <td>1</td>\n",
       "      <td>Ana</td>\n",
       "      <td>García</td>\n",
       "      <td>01-05-2024</td>\n",
       "      <td>Laptop</td>\n",
       "      <td>1</td>\n",
       "      <td>1200.50</td>\n",
       "      <td>1200.50</td>\n",
       "      <td>Tarjeta de Crédito</td>\n",
       "      <td>Norte</td>\n",
       "    </tr>\n",
       "    <tr>\n",
       "      <th>1</th>\n",
       "      <td>2</td>\n",
       "      <td>Carlos</td>\n",
       "      <td>López</td>\n",
       "      <td>2024-01-08</td>\n",
       "      <td>Mouse Inalámbrico</td>\n",
       "      <td>2</td>\n",
       "      <td>25.75</td>\n",
       "      <td>51.50</td>\n",
       "      <td>Efectivo</td>\n",
       "      <td>Sur</td>\n",
       "    </tr>\n",
       "    <tr>\n",
       "      <th>2</th>\n",
       "      <td>3</td>\n",
       "      <td>sofía</td>\n",
       "      <td>martínez</td>\n",
       "      <td>2024-01-12</td>\n",
       "      <td>Teclado Mecánico</td>\n",
       "      <td>1</td>\n",
       "      <td>75.99</td>\n",
       "      <td>75.99</td>\n",
       "      <td>Transferencia Bancaria</td>\n",
       "      <td>Este</td>\n",
       "    </tr>\n",
       "    <tr>\n",
       "      <th>3</th>\n",
       "      <td>4</td>\n",
       "      <td>pedro</td>\n",
       "      <td>rodríguez</td>\n",
       "      <td>2024-01-15</td>\n",
       "      <td>Monitor 24 pulgadas</td>\n",
       "      <td>1</td>\n",
       "      <td>NaN</td>\n",
       "      <td>NaN</td>\n",
       "      <td>Tarjeta de Débito</td>\n",
       "      <td>Oeste</td>\n",
       "    </tr>\n",
       "    <tr>\n",
       "      <th>4</th>\n",
       "      <td>5</td>\n",
       "      <td>Laura</td>\n",
       "      <td>Sánchez</td>\n",
       "      <td>18-01-2024</td>\n",
       "      <td>Auriculares Bluetooth</td>\n",
       "      <td>1</td>\n",
       "      <td>99.95</td>\n",
       "      <td>99.95</td>\n",
       "      <td>Tarjeta de Crédito</td>\n",
       "      <td>Norte</td>\n",
       "    </tr>\n",
       "  </tbody>\n",
       "</table>\n",
       "</div>"
      ],
      "text/plain": [
       "   ID_Venta Nombre_Cliente Apellido_Cliente       Fecha  \\\n",
       "0         1            Ana           García  01-05-2024   \n",
       "1         2         Carlos            López  2024-01-08   \n",
       "2         3          sofía         martínez  2024-01-12   \n",
       "3         4          pedro        rodríguez  2024-01-15   \n",
       "4         5          Laura          Sánchez  18-01-2024   \n",
       "\n",
       "                Producto  Cantidad  Precio_Unitario  Total_Venta  \\\n",
       "0                 Laptop         1          1200.50      1200.50   \n",
       "1      Mouse Inalámbrico         2            25.75        51.50   \n",
       "2       Teclado Mecánico         1            75.99        75.99   \n",
       "3    Monitor 24 pulgadas         1              NaN          NaN   \n",
       "4  Auriculares Bluetooth         1            99.95        99.95   \n",
       "\n",
       "              Metodo_Pago Region  \n",
       "0      Tarjeta de Crédito  Norte  \n",
       "1                Efectivo    Sur  \n",
       "2  Transferencia Bancaria   Este  \n",
       "3       Tarjeta de Débito  Oeste  \n",
       "4      Tarjeta de Crédito  Norte  "
      ]
     },
     "execution_count": 84,
     "metadata": {},
     "output_type": "execute_result"
    }
   ],
   "source": [
    "df.head()"
   ]
  },
  {
   "cell_type": "markdown",
   "id": "cab4efc8",
   "metadata": {},
   "source": [
    "- Con el método tail visualizamos las últimas 5 filas"
   ]
  },
  {
   "cell_type": "code",
   "execution_count": 85,
   "id": "bb5c32be",
   "metadata": {},
   "outputs": [
    {
     "data": {
      "text/html": [
       "<div>\n",
       "<style scoped>\n",
       "    .dataframe tbody tr th:only-of-type {\n",
       "        vertical-align: middle;\n",
       "    }\n",
       "\n",
       "    .dataframe tbody tr th {\n",
       "        vertical-align: top;\n",
       "    }\n",
       "\n",
       "    .dataframe thead th {\n",
       "        text-align: right;\n",
       "    }\n",
       "</style>\n",
       "<table border=\"1\" class=\"dataframe\">\n",
       "  <thead>\n",
       "    <tr style=\"text-align: right;\">\n",
       "      <th></th>\n",
       "      <th>ID_Venta</th>\n",
       "      <th>Nombre_Cliente</th>\n",
       "      <th>Apellido_Cliente</th>\n",
       "      <th>Fecha</th>\n",
       "      <th>Producto</th>\n",
       "      <th>Cantidad</th>\n",
       "      <th>Precio_Unitario</th>\n",
       "      <th>Total_Venta</th>\n",
       "      <th>Metodo_Pago</th>\n",
       "      <th>Region</th>\n",
       "    </tr>\n",
       "  </thead>\n",
       "  <tbody>\n",
       "    <tr>\n",
       "      <th>100</th>\n",
       "      <td>101</td>\n",
       "      <td>Agustín</td>\n",
       "      <td>Torres</td>\n",
       "      <td>2024-10-08</td>\n",
       "      <td>Pen Drive 64GB</td>\n",
       "      <td>4</td>\n",
       "      <td>8.75</td>\n",
       "      <td>35.0</td>\n",
       "      <td>Tarjeta de Débito</td>\n",
       "      <td>Oeste</td>\n",
       "    </tr>\n",
       "    <tr>\n",
       "      <th>101</th>\n",
       "      <td>102</td>\n",
       "      <td>Camila</td>\n",
       "      <td>Vega</td>\n",
       "      <td>2024-10-11</td>\n",
       "      <td>Laptop Ligera</td>\n",
       "      <td>1</td>\n",
       "      <td>NaN</td>\n",
       "      <td>1180.0</td>\n",
       "      <td>Tarjeta de Crédito</td>\n",
       "      <td>Norte</td>\n",
       "    </tr>\n",
       "    <tr>\n",
       "      <th>102</th>\n",
       "      <td>103</td>\n",
       "      <td>Juan</td>\n",
       "      <td>Rojas</td>\n",
       "      <td>2024-10-15</td>\n",
       "      <td>NaN</td>\n",
       "      <td>1</td>\n",
       "      <td>48.99</td>\n",
       "      <td>NaN</td>\n",
       "      <td>Efectivo</td>\n",
       "      <td>Sur</td>\n",
       "    </tr>\n",
       "    <tr>\n",
       "      <th>103</th>\n",
       "      <td>104</td>\n",
       "      <td>Lucía</td>\n",
       "      <td>Silva</td>\n",
       "      <td>2024-10-18</td>\n",
       "      <td>Teclado Bluetooth</td>\n",
       "      <td>1</td>\n",
       "      <td>78.20</td>\n",
       "      <td>78.2</td>\n",
       "      <td>Transferencia Bancaria</td>\n",
       "      <td>Este</td>\n",
       "    </tr>\n",
       "    <tr>\n",
       "      <th>104</th>\n",
       "      <td>105</td>\n",
       "      <td>mateo</td>\n",
       "      <td>luna</td>\n",
       "      <td>2024-10-22</td>\n",
       "      <td>Monitor para Oficina</td>\n",
       "      <td>1</td>\n",
       "      <td>2.00</td>\n",
       "      <td>210.5</td>\n",
       "      <td>Tarjeta de Débito</td>\n",
       "      <td>Oeste</td>\n",
       "    </tr>\n",
       "  </tbody>\n",
       "</table>\n",
       "</div>"
      ],
      "text/plain": [
       "     ID_Venta Nombre_Cliente Apellido_Cliente       Fecha  \\\n",
       "100       101        Agustín           Torres  2024-10-08   \n",
       "101       102         Camila             Vega  2024-10-11   \n",
       "102       103           Juan            Rojas  2024-10-15   \n",
       "103       104          Lucía            Silva  2024-10-18   \n",
       "104       105          mateo             luna  2024-10-22   \n",
       "\n",
       "                 Producto  Cantidad  Precio_Unitario  Total_Venta  \\\n",
       "100        Pen Drive 64GB         4             8.75         35.0   \n",
       "101         Laptop Ligera         1              NaN       1180.0   \n",
       "102                   NaN         1            48.99          NaN   \n",
       "103     Teclado Bluetooth         1            78.20         78.2   \n",
       "104  Monitor para Oficina         1             2.00        210.5   \n",
       "\n",
       "                Metodo_Pago Region  \n",
       "100       Tarjeta de Débito  Oeste  \n",
       "101      Tarjeta de Crédito  Norte  \n",
       "102                Efectivo    Sur  \n",
       "103  Transferencia Bancaria   Este  \n",
       "104       Tarjeta de Débito  Oeste  "
      ]
     },
     "execution_count": 85,
     "metadata": {},
     "output_type": "execute_result"
    }
   ],
   "source": [
    "df.tail()"
   ]
  },
  {
   "cell_type": "markdown",
   "id": "4f299b38",
   "metadata": {},
   "source": [
    "- Con el método info vemos un resumen de nuestro df"
   ]
  },
  {
   "cell_type": "code",
   "execution_count": 86,
   "id": "e16c84db",
   "metadata": {},
   "outputs": [
    {
     "name": "stdout",
     "output_type": "stream",
     "text": [
      "<class 'pandas.core.frame.DataFrame'>\n",
      "RangeIndex: 105 entries, 0 to 104\n",
      "Data columns (total 10 columns):\n",
      " #   Column            Non-Null Count  Dtype  \n",
      "---  ------            --------------  -----  \n",
      " 0   ID_Venta          105 non-null    int64  \n",
      " 1   Nombre_Cliente    105 non-null    object \n",
      " 2   Apellido_Cliente  105 non-null    object \n",
      " 3   Fecha             105 non-null    object \n",
      " 4   Producto          101 non-null    object \n",
      " 5   Cantidad          105 non-null    int64  \n",
      " 6   Precio_Unitario   92 non-null     float64\n",
      " 7   Total_Venta       92 non-null     float64\n",
      " 8   Metodo_Pago       94 non-null     object \n",
      " 9   Region            100 non-null    object \n",
      "dtypes: float64(2), int64(2), object(6)\n",
      "memory usage: 8.3+ KB\n"
     ]
    }
   ],
   "source": [
    "df.info()"
   ]
  },
  {
   "cell_type": "markdown",
   "id": "ac2e8456",
   "metadata": {},
   "source": [
    "- Para ver cuantas filas tenemos datos nulos en cada una de las columnas usamos la combinación de isnull() y sum()"
   ]
  },
  {
   "cell_type": "code",
   "execution_count": 87,
   "id": "ec01818b",
   "metadata": {},
   "outputs": [
    {
     "data": {
      "text/plain": [
       "ID_Venta             0\n",
       "Nombre_Cliente       0\n",
       "Apellido_Cliente     0\n",
       "Fecha                0\n",
       "Producto             4\n",
       "Cantidad             0\n",
       "Precio_Unitario     13\n",
       "Total_Venta         13\n",
       "Metodo_Pago         11\n",
       "Region               5\n",
       "dtype: int64"
      ]
     },
     "execution_count": 87,
     "metadata": {},
     "output_type": "execute_result"
    }
   ],
   "source": [
    "df.isnull().sum()"
   ]
  },
  {
   "cell_type": "markdown",
   "id": "32f4282d",
   "metadata": {},
   "source": [
    "### Limpieza y normalización de los datos"
   ]
  },
  {
   "cell_type": "markdown",
   "id": "ab075adc",
   "metadata": {},
   "source": [
    "- Para reemplazar los valores nulos del precio unitario se utilizo la mediana con el metodo fillna y el inplace=True para que modifique el dataframe original"
   ]
  },
  {
   "cell_type": "code",
   "execution_count": 88,
   "id": "be0f8fe1",
   "metadata": {},
   "outputs": [
    {
     "data": {
      "text/plain": [
       "np.float64(90.99)"
      ]
     },
     "execution_count": 88,
     "metadata": {},
     "output_type": "execute_result"
    }
   ],
   "source": [
    "df[\"Precio_Unitario\"].median()"
   ]
  },
  {
   "cell_type": "code",
   "execution_count": 89,
   "id": "b1e5d4a7",
   "metadata": {},
   "outputs": [
    {
     "name": "stderr",
     "output_type": "stream",
     "text": [
      "C:\\Users\\IPF-2025\\AppData\\Local\\Temp\\ipykernel_6668\\204979181.py:1: FutureWarning: A value is trying to be set on a copy of a DataFrame or Series through chained assignment using an inplace method.\n",
      "The behavior will change in pandas 3.0. This inplace method will never work because the intermediate object on which we are setting values always behaves as a copy.\n",
      "\n",
      "For example, when doing 'df[col].method(value, inplace=True)', try using 'df.method({col: value}, inplace=True)' or df[col] = df[col].method(value) instead, to perform the operation inplace on the original object.\n",
      "\n",
      "\n",
      "  df[\"Precio_Unitario\"].fillna(df[\"Precio_Unitario\"].median(), inplace=True)\n"
     ]
    },
    {
     "data": {
      "text/html": [
       "<div>\n",
       "<style scoped>\n",
       "    .dataframe tbody tr th:only-of-type {\n",
       "        vertical-align: middle;\n",
       "    }\n",
       "\n",
       "    .dataframe tbody tr th {\n",
       "        vertical-align: top;\n",
       "    }\n",
       "\n",
       "    .dataframe thead th {\n",
       "        text-align: right;\n",
       "    }\n",
       "</style>\n",
       "<table border=\"1\" class=\"dataframe\">\n",
       "  <thead>\n",
       "    <tr style=\"text-align: right;\">\n",
       "      <th></th>\n",
       "      <th>ID_Venta</th>\n",
       "      <th>Nombre_Cliente</th>\n",
       "      <th>Apellido_Cliente</th>\n",
       "      <th>Fecha</th>\n",
       "      <th>Producto</th>\n",
       "      <th>Cantidad</th>\n",
       "      <th>Precio_Unitario</th>\n",
       "      <th>Total_Venta</th>\n",
       "      <th>Metodo_Pago</th>\n",
       "      <th>Region</th>\n",
       "    </tr>\n",
       "  </thead>\n",
       "  <tbody>\n",
       "    <tr>\n",
       "      <th>0</th>\n",
       "      <td>1</td>\n",
       "      <td>Ana</td>\n",
       "      <td>García</td>\n",
       "      <td>01-05-2024</td>\n",
       "      <td>Laptop</td>\n",
       "      <td>1</td>\n",
       "      <td>1200.50</td>\n",
       "      <td>1200.50</td>\n",
       "      <td>Tarjeta de Crédito</td>\n",
       "      <td>Norte</td>\n",
       "    </tr>\n",
       "    <tr>\n",
       "      <th>1</th>\n",
       "      <td>2</td>\n",
       "      <td>Carlos</td>\n",
       "      <td>López</td>\n",
       "      <td>2024-01-08</td>\n",
       "      <td>Mouse Inalámbrico</td>\n",
       "      <td>2</td>\n",
       "      <td>25.75</td>\n",
       "      <td>51.50</td>\n",
       "      <td>Efectivo</td>\n",
       "      <td>Sur</td>\n",
       "    </tr>\n",
       "    <tr>\n",
       "      <th>2</th>\n",
       "      <td>3</td>\n",
       "      <td>sofía</td>\n",
       "      <td>martínez</td>\n",
       "      <td>2024-01-12</td>\n",
       "      <td>Teclado Mecánico</td>\n",
       "      <td>1</td>\n",
       "      <td>75.99</td>\n",
       "      <td>75.99</td>\n",
       "      <td>Transferencia Bancaria</td>\n",
       "      <td>Este</td>\n",
       "    </tr>\n",
       "    <tr>\n",
       "      <th>3</th>\n",
       "      <td>4</td>\n",
       "      <td>pedro</td>\n",
       "      <td>rodríguez</td>\n",
       "      <td>2024-01-15</td>\n",
       "      <td>Monitor 24 pulgadas</td>\n",
       "      <td>1</td>\n",
       "      <td>90.99</td>\n",
       "      <td>NaN</td>\n",
       "      <td>Tarjeta de Débito</td>\n",
       "      <td>Oeste</td>\n",
       "    </tr>\n",
       "    <tr>\n",
       "      <th>4</th>\n",
       "      <td>5</td>\n",
       "      <td>Laura</td>\n",
       "      <td>Sánchez</td>\n",
       "      <td>18-01-2024</td>\n",
       "      <td>Auriculares Bluetooth</td>\n",
       "      <td>1</td>\n",
       "      <td>99.95</td>\n",
       "      <td>99.95</td>\n",
       "      <td>Tarjeta de Crédito</td>\n",
       "      <td>Norte</td>\n",
       "    </tr>\n",
       "  </tbody>\n",
       "</table>\n",
       "</div>"
      ],
      "text/plain": [
       "   ID_Venta Nombre_Cliente Apellido_Cliente       Fecha  \\\n",
       "0         1            Ana           García  01-05-2024   \n",
       "1         2         Carlos            López  2024-01-08   \n",
       "2         3          sofía         martínez  2024-01-12   \n",
       "3         4          pedro        rodríguez  2024-01-15   \n",
       "4         5          Laura          Sánchez  18-01-2024   \n",
       "\n",
       "                Producto  Cantidad  Precio_Unitario  Total_Venta  \\\n",
       "0                 Laptop         1          1200.50      1200.50   \n",
       "1      Mouse Inalámbrico         2            25.75        51.50   \n",
       "2       Teclado Mecánico         1            75.99        75.99   \n",
       "3    Monitor 24 pulgadas         1            90.99          NaN   \n",
       "4  Auriculares Bluetooth         1            99.95        99.95   \n",
       "\n",
       "              Metodo_Pago Region  \n",
       "0      Tarjeta de Crédito  Norte  \n",
       "1                Efectivo    Sur  \n",
       "2  Transferencia Bancaria   Este  \n",
       "3       Tarjeta de Débito  Oeste  \n",
       "4      Tarjeta de Crédito  Norte  "
      ]
     },
     "execution_count": 89,
     "metadata": {},
     "output_type": "execute_result"
    }
   ],
   "source": [
    "df[\"Precio_Unitario\"].fillna(df[\"Precio_Unitario\"].median(), inplace=True)\n",
    "\n",
    "df.head()"
   ]
  },
  {
   "cell_type": "markdown",
   "id": "171a305d",
   "metadata": {},
   "source": [
    "- Para reemplazar los valores nulos del total de venta se utilizo la mediana con el metodo fillna y el inplace=True para que modifique el dataframe original"
   ]
  },
  {
   "cell_type": "code",
   "execution_count": 90,
   "id": "5b9588b2",
   "metadata": {},
   "outputs": [
    {
     "data": {
      "text/plain": [
       "np.float64(97.25)"
      ]
     },
     "execution_count": 90,
     "metadata": {},
     "output_type": "execute_result"
    }
   ],
   "source": [
    "df[\"Total_Venta\"].median()"
   ]
  },
  {
   "cell_type": "code",
   "execution_count": 91,
   "id": "bf84faa7",
   "metadata": {},
   "outputs": [
    {
     "name": "stderr",
     "output_type": "stream",
     "text": [
      "C:\\Users\\IPF-2025\\AppData\\Local\\Temp\\ipykernel_6668\\2050978879.py:1: FutureWarning: A value is trying to be set on a copy of a DataFrame or Series through chained assignment using an inplace method.\n",
      "The behavior will change in pandas 3.0. This inplace method will never work because the intermediate object on which we are setting values always behaves as a copy.\n",
      "\n",
      "For example, when doing 'df[col].method(value, inplace=True)', try using 'df.method({col: value}, inplace=True)' or df[col] = df[col].method(value) instead, to perform the operation inplace on the original object.\n",
      "\n",
      "\n",
      "  df[\"Total_Venta\"].fillna(df[\"Total_Venta\"].median(), inplace=True)\n"
     ]
    },
    {
     "data": {
      "text/html": [
       "<div>\n",
       "<style scoped>\n",
       "    .dataframe tbody tr th:only-of-type {\n",
       "        vertical-align: middle;\n",
       "    }\n",
       "\n",
       "    .dataframe tbody tr th {\n",
       "        vertical-align: top;\n",
       "    }\n",
       "\n",
       "    .dataframe thead th {\n",
       "        text-align: right;\n",
       "    }\n",
       "</style>\n",
       "<table border=\"1\" class=\"dataframe\">\n",
       "  <thead>\n",
       "    <tr style=\"text-align: right;\">\n",
       "      <th></th>\n",
       "      <th>ID_Venta</th>\n",
       "      <th>Nombre_Cliente</th>\n",
       "      <th>Apellido_Cliente</th>\n",
       "      <th>Fecha</th>\n",
       "      <th>Producto</th>\n",
       "      <th>Cantidad</th>\n",
       "      <th>Precio_Unitario</th>\n",
       "      <th>Total_Venta</th>\n",
       "      <th>Metodo_Pago</th>\n",
       "      <th>Region</th>\n",
       "    </tr>\n",
       "  </thead>\n",
       "  <tbody>\n",
       "    <tr>\n",
       "      <th>0</th>\n",
       "      <td>1</td>\n",
       "      <td>Ana</td>\n",
       "      <td>García</td>\n",
       "      <td>01-05-2024</td>\n",
       "      <td>Laptop</td>\n",
       "      <td>1</td>\n",
       "      <td>1200.50</td>\n",
       "      <td>1200.50</td>\n",
       "      <td>Tarjeta de Crédito</td>\n",
       "      <td>Norte</td>\n",
       "    </tr>\n",
       "    <tr>\n",
       "      <th>1</th>\n",
       "      <td>2</td>\n",
       "      <td>Carlos</td>\n",
       "      <td>López</td>\n",
       "      <td>2024-01-08</td>\n",
       "      <td>Mouse Inalámbrico</td>\n",
       "      <td>2</td>\n",
       "      <td>25.75</td>\n",
       "      <td>51.50</td>\n",
       "      <td>Efectivo</td>\n",
       "      <td>Sur</td>\n",
       "    </tr>\n",
       "    <tr>\n",
       "      <th>2</th>\n",
       "      <td>3</td>\n",
       "      <td>sofía</td>\n",
       "      <td>martínez</td>\n",
       "      <td>2024-01-12</td>\n",
       "      <td>Teclado Mecánico</td>\n",
       "      <td>1</td>\n",
       "      <td>75.99</td>\n",
       "      <td>75.99</td>\n",
       "      <td>Transferencia Bancaria</td>\n",
       "      <td>Este</td>\n",
       "    </tr>\n",
       "    <tr>\n",
       "      <th>3</th>\n",
       "      <td>4</td>\n",
       "      <td>pedro</td>\n",
       "      <td>rodríguez</td>\n",
       "      <td>2024-01-15</td>\n",
       "      <td>Monitor 24 pulgadas</td>\n",
       "      <td>1</td>\n",
       "      <td>90.99</td>\n",
       "      <td>97.25</td>\n",
       "      <td>Tarjeta de Débito</td>\n",
       "      <td>Oeste</td>\n",
       "    </tr>\n",
       "    <tr>\n",
       "      <th>4</th>\n",
       "      <td>5</td>\n",
       "      <td>Laura</td>\n",
       "      <td>Sánchez</td>\n",
       "      <td>18-01-2024</td>\n",
       "      <td>Auriculares Bluetooth</td>\n",
       "      <td>1</td>\n",
       "      <td>99.95</td>\n",
       "      <td>99.95</td>\n",
       "      <td>Tarjeta de Crédito</td>\n",
       "      <td>Norte</td>\n",
       "    </tr>\n",
       "  </tbody>\n",
       "</table>\n",
       "</div>"
      ],
      "text/plain": [
       "   ID_Venta Nombre_Cliente Apellido_Cliente       Fecha  \\\n",
       "0         1            Ana           García  01-05-2024   \n",
       "1         2         Carlos            López  2024-01-08   \n",
       "2         3          sofía         martínez  2024-01-12   \n",
       "3         4          pedro        rodríguez  2024-01-15   \n",
       "4         5          Laura          Sánchez  18-01-2024   \n",
       "\n",
       "                Producto  Cantidad  Precio_Unitario  Total_Venta  \\\n",
       "0                 Laptop         1          1200.50      1200.50   \n",
       "1      Mouse Inalámbrico         2            25.75        51.50   \n",
       "2       Teclado Mecánico         1            75.99        75.99   \n",
       "3    Monitor 24 pulgadas         1            90.99        97.25   \n",
       "4  Auriculares Bluetooth         1            99.95        99.95   \n",
       "\n",
       "              Metodo_Pago Region  \n",
       "0      Tarjeta de Crédito  Norte  \n",
       "1                Efectivo    Sur  \n",
       "2  Transferencia Bancaria   Este  \n",
       "3       Tarjeta de Débito  Oeste  \n",
       "4      Tarjeta de Crédito  Norte  "
      ]
     },
     "execution_count": 91,
     "metadata": {},
     "output_type": "execute_result"
    }
   ],
   "source": [
    "df[\"Total_Venta\"].fillna(df[\"Total_Venta\"].median(), inplace=True)\n",
    "\n",
    "df.head()"
   ]
  },
  {
   "cell_type": "markdown",
   "id": "6dea35f1",
   "metadata": {},
   "source": [
    "- Para converir a fecha con el formato Y-m-d usamos dos series que tengas ambos formatos para después combinarlos y por utlimo pasarle la fecha a la columna"
   ]
  },
  {
   "cell_type": "code",
   "execution_count": 92,
   "id": "5dabfec0",
   "metadata": {},
   "outputs": [
    {
     "data": {
      "text/plain": [
       "0     2024-05-01\n",
       "1     2024-01-08\n",
       "2     2024-01-12\n",
       "3     2024-01-15\n",
       "4     2024-01-18\n",
       "         ...    \n",
       "100   2024-10-08\n",
       "101   2024-10-11\n",
       "102   2024-10-15\n",
       "103   2024-10-18\n",
       "104   2024-10-22\n",
       "Name: Fecha, Length: 105, dtype: datetime64[ns]"
      ]
     },
     "execution_count": 92,
     "metadata": {},
     "output_type": "execute_result"
    }
   ],
   "source": [
    "serie1 = pd.to_datetime(df[\"Fecha\"], format=\"%Y-%m-%d\", errors=\"coerce\")\n",
    "serie2 = pd.to_datetime(df[\"Fecha\"], format=\"%d-%m-%Y\", errors=\"coerce\")\n",
    "\n",
    "serie_final = serie1.combine_first(serie2)\n",
    "\n",
    "serie_final"
   ]
  },
  {
   "cell_type": "code",
   "execution_count": 93,
   "id": "0ab8d133",
   "metadata": {},
   "outputs": [
    {
     "data": {
      "text/html": [
       "<div>\n",
       "<style scoped>\n",
       "    .dataframe tbody tr th:only-of-type {\n",
       "        vertical-align: middle;\n",
       "    }\n",
       "\n",
       "    .dataframe tbody tr th {\n",
       "        vertical-align: top;\n",
       "    }\n",
       "\n",
       "    .dataframe thead th {\n",
       "        text-align: right;\n",
       "    }\n",
       "</style>\n",
       "<table border=\"1\" class=\"dataframe\">\n",
       "  <thead>\n",
       "    <tr style=\"text-align: right;\">\n",
       "      <th></th>\n",
       "      <th>ID_Venta</th>\n",
       "      <th>Nombre_Cliente</th>\n",
       "      <th>Apellido_Cliente</th>\n",
       "      <th>Fecha</th>\n",
       "      <th>Producto</th>\n",
       "      <th>Cantidad</th>\n",
       "      <th>Precio_Unitario</th>\n",
       "      <th>Total_Venta</th>\n",
       "      <th>Metodo_Pago</th>\n",
       "      <th>Region</th>\n",
       "    </tr>\n",
       "  </thead>\n",
       "  <tbody>\n",
       "    <tr>\n",
       "      <th>0</th>\n",
       "      <td>1</td>\n",
       "      <td>Ana</td>\n",
       "      <td>García</td>\n",
       "      <td>2024-05-01</td>\n",
       "      <td>Laptop</td>\n",
       "      <td>1</td>\n",
       "      <td>1200.50</td>\n",
       "      <td>1200.50</td>\n",
       "      <td>Tarjeta de Crédito</td>\n",
       "      <td>Norte</td>\n",
       "    </tr>\n",
       "    <tr>\n",
       "      <th>1</th>\n",
       "      <td>2</td>\n",
       "      <td>Carlos</td>\n",
       "      <td>López</td>\n",
       "      <td>2024-01-08</td>\n",
       "      <td>Mouse Inalámbrico</td>\n",
       "      <td>2</td>\n",
       "      <td>25.75</td>\n",
       "      <td>51.50</td>\n",
       "      <td>Efectivo</td>\n",
       "      <td>Sur</td>\n",
       "    </tr>\n",
       "    <tr>\n",
       "      <th>2</th>\n",
       "      <td>3</td>\n",
       "      <td>sofía</td>\n",
       "      <td>martínez</td>\n",
       "      <td>2024-01-12</td>\n",
       "      <td>Teclado Mecánico</td>\n",
       "      <td>1</td>\n",
       "      <td>75.99</td>\n",
       "      <td>75.99</td>\n",
       "      <td>Transferencia Bancaria</td>\n",
       "      <td>Este</td>\n",
       "    </tr>\n",
       "    <tr>\n",
       "      <th>3</th>\n",
       "      <td>4</td>\n",
       "      <td>pedro</td>\n",
       "      <td>rodríguez</td>\n",
       "      <td>2024-01-15</td>\n",
       "      <td>Monitor 24 pulgadas</td>\n",
       "      <td>1</td>\n",
       "      <td>90.99</td>\n",
       "      <td>97.25</td>\n",
       "      <td>Tarjeta de Débito</td>\n",
       "      <td>Oeste</td>\n",
       "    </tr>\n",
       "    <tr>\n",
       "      <th>4</th>\n",
       "      <td>5</td>\n",
       "      <td>Laura</td>\n",
       "      <td>Sánchez</td>\n",
       "      <td>2024-01-18</td>\n",
       "      <td>Auriculares Bluetooth</td>\n",
       "      <td>1</td>\n",
       "      <td>99.95</td>\n",
       "      <td>99.95</td>\n",
       "      <td>Tarjeta de Crédito</td>\n",
       "      <td>Norte</td>\n",
       "    </tr>\n",
       "  </tbody>\n",
       "</table>\n",
       "</div>"
      ],
      "text/plain": [
       "   ID_Venta Nombre_Cliente Apellido_Cliente      Fecha               Producto  \\\n",
       "0         1            Ana           García 2024-05-01                 Laptop   \n",
       "1         2         Carlos            López 2024-01-08      Mouse Inalámbrico   \n",
       "2         3          sofía         martínez 2024-01-12       Teclado Mecánico   \n",
       "3         4          pedro        rodríguez 2024-01-15    Monitor 24 pulgadas   \n",
       "4         5          Laura          Sánchez 2024-01-18  Auriculares Bluetooth   \n",
       "\n",
       "   Cantidad  Precio_Unitario  Total_Venta             Metodo_Pago Region  \n",
       "0         1          1200.50      1200.50      Tarjeta de Crédito  Norte  \n",
       "1         2            25.75        51.50                Efectivo    Sur  \n",
       "2         1            75.99        75.99  Transferencia Bancaria   Este  \n",
       "3         1            90.99        97.25       Tarjeta de Débito  Oeste  \n",
       "4         1            99.95        99.95      Tarjeta de Crédito  Norte  "
      ]
     },
     "execution_count": 93,
     "metadata": {},
     "output_type": "execute_result"
    }
   ],
   "source": [
    "df[\"Fecha\"] = serie_final\n",
    "df.head()"
   ]
  },
  {
   "cell_type": "code",
   "execution_count": 94,
   "id": "e3ab5b80",
   "metadata": {},
   "outputs": [
    {
     "data": {
      "text/html": [
       "<div>\n",
       "<style scoped>\n",
       "    .dataframe tbody tr th:only-of-type {\n",
       "        vertical-align: middle;\n",
       "    }\n",
       "\n",
       "    .dataframe tbody tr th {\n",
       "        vertical-align: top;\n",
       "    }\n",
       "\n",
       "    .dataframe thead th {\n",
       "        text-align: right;\n",
       "    }\n",
       "</style>\n",
       "<table border=\"1\" class=\"dataframe\">\n",
       "  <thead>\n",
       "    <tr style=\"text-align: right;\">\n",
       "      <th></th>\n",
       "      <th>ID_Venta</th>\n",
       "      <th>Nombre_Cliente</th>\n",
       "      <th>Apellido_Cliente</th>\n",
       "      <th>Fecha</th>\n",
       "      <th>Producto</th>\n",
       "      <th>Cantidad</th>\n",
       "      <th>Precio_Unitario</th>\n",
       "      <th>Total_Venta</th>\n",
       "      <th>Metodo_Pago</th>\n",
       "      <th>Region</th>\n",
       "    </tr>\n",
       "  </thead>\n",
       "  <tbody>\n",
       "    <tr>\n",
       "      <th>0</th>\n",
       "      <td>1</td>\n",
       "      <td>Ana</td>\n",
       "      <td>García</td>\n",
       "      <td>2024-05-01</td>\n",
       "      <td>Laptop</td>\n",
       "      <td>1</td>\n",
       "      <td>1200.50</td>\n",
       "      <td>1200.50</td>\n",
       "      <td>Tarjeta de Crédito</td>\n",
       "      <td>Norte</td>\n",
       "    </tr>\n",
       "    <tr>\n",
       "      <th>1</th>\n",
       "      <td>2</td>\n",
       "      <td>Carlos</td>\n",
       "      <td>López</td>\n",
       "      <td>2024-01-08</td>\n",
       "      <td>Mouse Inalámbrico</td>\n",
       "      <td>2</td>\n",
       "      <td>25.75</td>\n",
       "      <td>51.50</td>\n",
       "      <td>Efectivo</td>\n",
       "      <td>Sur</td>\n",
       "    </tr>\n",
       "    <tr>\n",
       "      <th>2</th>\n",
       "      <td>3</td>\n",
       "      <td>Sofía</td>\n",
       "      <td>Martínez</td>\n",
       "      <td>2024-01-12</td>\n",
       "      <td>Teclado Mecánico</td>\n",
       "      <td>1</td>\n",
       "      <td>75.99</td>\n",
       "      <td>75.99</td>\n",
       "      <td>Transferencia Bancaria</td>\n",
       "      <td>Este</td>\n",
       "    </tr>\n",
       "    <tr>\n",
       "      <th>3</th>\n",
       "      <td>4</td>\n",
       "      <td>Pedro</td>\n",
       "      <td>Rodríguez</td>\n",
       "      <td>2024-01-15</td>\n",
       "      <td>Monitor 24 pulgadas</td>\n",
       "      <td>1</td>\n",
       "      <td>90.99</td>\n",
       "      <td>97.25</td>\n",
       "      <td>Tarjeta de Débito</td>\n",
       "      <td>Oeste</td>\n",
       "    </tr>\n",
       "    <tr>\n",
       "      <th>4</th>\n",
       "      <td>5</td>\n",
       "      <td>Laura</td>\n",
       "      <td>Sánchez</td>\n",
       "      <td>2024-01-18</td>\n",
       "      <td>Auriculares Bluetooth</td>\n",
       "      <td>1</td>\n",
       "      <td>99.95</td>\n",
       "      <td>99.95</td>\n",
       "      <td>Tarjeta de Crédito</td>\n",
       "      <td>Norte</td>\n",
       "    </tr>\n",
       "  </tbody>\n",
       "</table>\n",
       "</div>"
      ],
      "text/plain": [
       "   ID_Venta Nombre_Cliente Apellido_Cliente      Fecha               Producto  \\\n",
       "0         1            Ana           García 2024-05-01                 Laptop   \n",
       "1         2         Carlos            López 2024-01-08      Mouse Inalámbrico   \n",
       "2         3          Sofía         Martínez 2024-01-12       Teclado Mecánico   \n",
       "3         4          Pedro        Rodríguez 2024-01-15    Monitor 24 pulgadas   \n",
       "4         5          Laura          Sánchez 2024-01-18  Auriculares Bluetooth   \n",
       "\n",
       "   Cantidad  Precio_Unitario  Total_Venta             Metodo_Pago Region  \n",
       "0         1          1200.50      1200.50      Tarjeta de Crédito  Norte  \n",
       "1         2            25.75        51.50                Efectivo    Sur  \n",
       "2         1            75.99        75.99  Transferencia Bancaria   Este  \n",
       "3         1            90.99        97.25       Tarjeta de Débito  Oeste  \n",
       "4         1            99.95        99.95      Tarjeta de Crédito  Norte  "
      ]
     },
     "execution_count": 94,
     "metadata": {},
     "output_type": "execute_result"
    }
   ],
   "source": [
    "df[\"Nombre_Cliente\"] = df[\"Nombre_Cliente\"].str.title().str.strip()\n",
    "df[\"Apellido_Cliente\"] = df[\"Apellido_Cliente\"].str.title().str.strip()\n",
    "\n",
    "df.head()"
   ]
  },
  {
   "cell_type": "markdown",
   "id": "60738a93",
   "metadata": {},
   "source": [
    "- Para aquellas columnas no númericas se optó por eliminar las filas que contienen los datos nulos"
   ]
  },
  {
   "cell_type": "code",
   "execution_count": 95,
   "id": "95131dae",
   "metadata": {},
   "outputs": [
    {
     "data": {
      "text/plain": [
       "ID_Venta            0\n",
       "Nombre_Cliente      0\n",
       "Apellido_Cliente    0\n",
       "Fecha               0\n",
       "Producto            0\n",
       "Cantidad            0\n",
       "Precio_Unitario     0\n",
       "Total_Venta         0\n",
       "Metodo_Pago         0\n",
       "Region              0\n",
       "dtype: int64"
      ]
     },
     "execution_count": 95,
     "metadata": {},
     "output_type": "execute_result"
    }
   ],
   "source": [
    "df.dropna(subset=[\"Producto\", \"Metodo_Pago\", \"Region\"], inplace=True)\n",
    "\n",
    "df.isnull().sum()"
   ]
  },
  {
   "cell_type": "markdown",
   "id": "641faa0b",
   "metadata": {},
   "source": [
    "### Estadisticas Descriptivas"
   ]
  },
  {
   "cell_type": "markdown",
   "id": "983c9cc3",
   "metadata": {},
   "source": [
    "- Obtenemos la estadisticas descriptivas de las columnas numéricas por medio del método describe()"
   ]
  },
  {
   "cell_type": "code",
   "execution_count": 96,
   "id": "fc86bbe3",
   "metadata": {},
   "outputs": [
    {
     "data": {
      "text/html": [
       "<div>\n",
       "<style scoped>\n",
       "    .dataframe tbody tr th:only-of-type {\n",
       "        vertical-align: middle;\n",
       "    }\n",
       "\n",
       "    .dataframe tbody tr th {\n",
       "        vertical-align: top;\n",
       "    }\n",
       "\n",
       "    .dataframe thead th {\n",
       "        text-align: right;\n",
       "    }\n",
       "</style>\n",
       "<table border=\"1\" class=\"dataframe\">\n",
       "  <thead>\n",
       "    <tr style=\"text-align: right;\">\n",
       "      <th></th>\n",
       "      <th>ID_Venta</th>\n",
       "      <th>Fecha</th>\n",
       "      <th>Cantidad</th>\n",
       "      <th>Precio_Unitario</th>\n",
       "      <th>Total_Venta</th>\n",
       "    </tr>\n",
       "  </thead>\n",
       "  <tbody>\n",
       "    <tr>\n",
       "      <th>count</th>\n",
       "      <td>85.000000</td>\n",
       "      <td>85</td>\n",
       "      <td>85.000000</td>\n",
       "      <td>85.000000</td>\n",
       "      <td>85.000000</td>\n",
       "    </tr>\n",
       "    <tr>\n",
       "      <th>mean</th>\n",
       "      <td>51.752941</td>\n",
       "      <td>2024-06-15 18:21:10.588235264</td>\n",
       "      <td>1.223529</td>\n",
       "      <td>188.532588</td>\n",
       "      <td>201.032824</td>\n",
       "    </tr>\n",
       "    <tr>\n",
       "      <th>min</th>\n",
       "      <td>1.000000</td>\n",
       "      <td>2024-01-08 00:00:00</td>\n",
       "      <td>1.000000</td>\n",
       "      <td>2.000000</td>\n",
       "      <td>19.990000</td>\n",
       "    </tr>\n",
       "    <tr>\n",
       "      <th>25%</th>\n",
       "      <td>22.000000</td>\n",
       "      <td>2024-03-26 00:00:00</td>\n",
       "      <td>1.000000</td>\n",
       "      <td>52.750000</td>\n",
       "      <td>60.200000</td>\n",
       "    </tr>\n",
       "    <tr>\n",
       "      <th>50%</th>\n",
       "      <td>50.000000</td>\n",
       "      <td>2024-06-25 00:00:00</td>\n",
       "      <td>1.000000</td>\n",
       "      <td>90.990000</td>\n",
       "      <td>97.250000</td>\n",
       "    </tr>\n",
       "    <tr>\n",
       "      <th>75%</th>\n",
       "      <td>81.000000</td>\n",
       "      <td>2024-09-10 00:00:00</td>\n",
       "      <td>1.000000</td>\n",
       "      <td>165.000000</td>\n",
       "      <td>185.200000</td>\n",
       "    </tr>\n",
       "    <tr>\n",
       "      <th>max</th>\n",
       "      <td>105.000000</td>\n",
       "      <td>2024-10-22 00:00:00</td>\n",
       "      <td>4.000000</td>\n",
       "      <td>1550.000000</td>\n",
       "      <td>1350.750000</td>\n",
       "    </tr>\n",
       "    <tr>\n",
       "      <th>std</th>\n",
       "      <td>32.153244</td>\n",
       "      <td>NaN</td>\n",
       "      <td>0.585061</td>\n",
       "      <td>302.482232</td>\n",
       "      <td>283.392099</td>\n",
       "    </tr>\n",
       "  </tbody>\n",
       "</table>\n",
       "</div>"
      ],
      "text/plain": [
       "         ID_Venta                          Fecha   Cantidad  Precio_Unitario  \\\n",
       "count   85.000000                             85  85.000000        85.000000   \n",
       "mean    51.752941  2024-06-15 18:21:10.588235264   1.223529       188.532588   \n",
       "min      1.000000            2024-01-08 00:00:00   1.000000         2.000000   \n",
       "25%     22.000000            2024-03-26 00:00:00   1.000000        52.750000   \n",
       "50%     50.000000            2024-06-25 00:00:00   1.000000        90.990000   \n",
       "75%     81.000000            2024-09-10 00:00:00   1.000000       165.000000   \n",
       "max    105.000000            2024-10-22 00:00:00   4.000000      1550.000000   \n",
       "std     32.153244                            NaN   0.585061       302.482232   \n",
       "\n",
       "       Total_Venta  \n",
       "count    85.000000  \n",
       "mean    201.032824  \n",
       "min      19.990000  \n",
       "25%      60.200000  \n",
       "50%      97.250000  \n",
       "75%     185.200000  \n",
       "max    1350.750000  \n",
       "std     283.392099  "
      ]
     },
     "execution_count": 96,
     "metadata": {},
     "output_type": "execute_result"
    }
   ],
   "source": [
    "df.describe()"
   ]
  },
  {
   "cell_type": "markdown",
   "id": "d94a3fd6",
   "metadata": {},
   "source": [
    "- Agrupamos la cantidad de productos unicos por región"
   ]
  },
  {
   "cell_type": "code",
   "execution_count": 97,
   "id": "80cd5283",
   "metadata": {},
   "outputs": [
    {
     "data": {
      "text/plain": [
       "Region\n",
       "Este      9\n",
       "Norte    19\n",
       "Oeste    21\n",
       "Sur      20\n",
       "Name: Producto, dtype: int64"
      ]
     },
     "execution_count": 97,
     "metadata": {},
     "output_type": "execute_result"
    }
   ],
   "source": [
    "producto_por_region = df.groupby(\"Region\")[\"Producto\"].nunique()\n",
    "\n",
    "producto_por_region"
   ]
  },
  {
   "cell_type": "markdown",
   "id": "3f18b0b9",
   "metadata": {},
   "source": [
    "### Visualización de los datos"
   ]
  },
  {
   "cell_type": "markdown",
   "id": "6708244e",
   "metadata": {},
   "source": [
    "- Se realiza un grafico de tortas para visualizar el metodo de pago elegido por cada cliente"
   ]
  },
  {
   "cell_type": "code",
   "execution_count": 98,
   "id": "9bd814c6",
   "metadata": {},
   "outputs": [
    {
     "data": {
      "image/png": "[encoded data removed]",
      "text/plain": [
       "<Figure size 600x500 with 1 Axes>"
      ]
     },
     "metadata": {},
     "output_type": "display_data"
    }
   ],
   "source": [
    "plt.figure(figsize=(6, 5))\n",
    "\n",
    "df[\"Metodo_Pago\"].value_counts().plot(kind=\"pie\", autopct=\"%1.1f%%\", startangle=90)\n",
    "\n",
    "plt.title(\"Dispersión porcentual por método de pago\")\n",
    "plt.show()"
   ]
  },
  {
   "cell_type": "markdown",
   "id": "c3c32494",
   "metadata": {},
   "source": [
    "### Exportacion a un archivo SQL"
   ]
  },
  {
   "cell_type": "code",
   "execution_count": 99,
   "id": "88b97600",
   "metadata": {},
   "outputs": [],
   "source": [
    "conn = sqlite3.connect(\"ventas.sql\")\n",
    "\n",
    "df.to_sql(\"ventas\", conn, index=False, if_exists=\"replace\")\n",
    "\n",
    "conn.close()"
   ]
  }
 ],
 "metadata": {
  "kernelspec": {
   "display_name": "env",
   "language": "python",
   "name": "python3"
  },
  "language_info": {
   "codemirror_mode": {
    "name": "ipython",
    "version": 3
   },
   "file_extension": ".py",
   "mimetype": "text/x-python",
   "name": "python",
   "nbconvert_exporter": "python",
   "pygments_lexer": "ipython3",
   "version": "3.13.2"
  }
 },
 "nbformat": 4,
 "nbformat_minor": 5
}
